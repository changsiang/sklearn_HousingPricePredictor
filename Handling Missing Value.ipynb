{
 "cells": [
  {
   "cell_type": "code",
   "execution_count": 1,
   "metadata": {},
   "outputs": [],
   "source": [
    "# In the event if there is missing value in the DataFrame, there are 3 ways to deal with it\n",
    "# 1) Drop Columns with Missing Values\n",
    "# 2) Imputation\n",
    "# 3) Extension to Imputation\n",
    "\n",
    "# This tutorial will use Melbourne Housing Data for demonostration\n",
    "\n",
    "import pandas as pd"
   ]
  },
  {
   "cell_type": "code",
   "execution_count": 3,
   "metadata": {},
   "outputs": [],
   "source": [
    "# Load Data\n",
    "melb_data = pd.read_csv('./Housing Price ML Project/melb_data.csv/melb_data.csv')"
   ]
  },
  {
   "cell_type": "code",
   "execution_count": 26,
   "metadata": {},
   "outputs": [],
   "source": [
    "from sklearn.ensemble import RandomForestRegressor\n",
    "from sklearn.metrics import mean_absolute_error\n",
    "from sklearn.model_selection import train_test_split\n",
    "\n",
    "melb_target = melb_data.Price\n",
    "melb_predictors = melb_data.drop(['Price'], axis=1)\n",
    "\n",
    "# set prediction target. Common convention, y is use to refer to prediction target\n",
    "y = melb_target\n",
    "# let x be the value of the predictors\n",
    "x = melb_predictors\n",
    "\n",
    "# To keep the example simple, use only numeric predictors.\n",
    "melb_numeric_predictors = melb_predictors.select_dtypes(exclude=['object'])\n",
    "\n",
    "x = melb_numeric_predictors"
   ]
  },
  {
   "cell_type": "code",
   "execution_count": 27,
   "metadata": {},
   "outputs": [],
   "source": [
    "# split data into training and test set. sklearn has library to automatically to do that\n",
    "from sklearn.model_selection import train_test_split\n",
    "# The split is based on random number generator.\n",
    "train_X, val_X, train_y, val_y = train_test_split(x, y, random_state = 0)"
   ]
  },
  {
   "cell_type": "code",
   "execution_count": 40,
   "metadata": {},
   "outputs": [],
   "source": [
    "def score_dataset (reduced_X_train, reduced_X_test, train_y, val_y):\n",
    "    forest_model= RandomForestRegressor()\n",
    "    forest_model.fit(reduced_X_train, train_y)\n",
    "    melb_preds = forest_model.predict(reduced_X_test)\n",
    "    return mean_absolute_error(val_y, melb_preds)"
   ]
  },
  {
   "cell_type": "code",
   "execution_count": 45,
   "metadata": {},
   "outputs": [
    {
     "name": "stdout",
     "output_type": "stream",
     "text": [
      "Mean Absolute Error from dropping columns with missing value\n",
      "349628.7885409872\n"
     ]
    }
   ],
   "source": [
    "# Get Model Score from Dropping Columns with Missing Values\n",
    "cols_with_missing = [col for col in train_X.columns if train_X[col].isnull().any()]\n",
    "reduced_X_train = train_X.drop(cols_with_missing, axis=1)\n",
    "reduced_X_test = val_X.drop(cols_with_missing, axis=1)\n",
    "print(\"Mean Absolute Error from dropping columns with missing value\")\n",
    "print(score_dataset(reduced_X_train, reduced_X_test, train_y, val_y))"
   ]
  },
  {
   "cell_type": "code",
   "execution_count": 46,
   "metadata": {},
   "outputs": [
    {
     "name": "stdout",
     "output_type": "stream",
     "text": [
      "Mean Absolute Error from Imputation: \n",
      "204648.46610132637\n"
     ]
    }
   ],
   "source": [
    "# Get Model Score from Imputation\n",
    "from sklearn.preprocessing import Imputer\n",
    "\n",
    "my_imputer = Imputer()\n",
    "imputed_X_train = my_imputer.fit_transform(train_X)\n",
    "imputed_X_test = my_imputer.transform(val_X)\n",
    "print(\"Mean Absolute Error from Imputation: \")\n",
    "print(score_dataset(imputed_X_train, imputed_X_test, train_y, val_y))"
   ]
  },
  {
   "cell_type": "code",
   "execution_count": 52,
   "metadata": {},
   "outputs": [
    {
     "name": "stdout",
     "output_type": "stream",
     "text": [
      "Mean Absolute Error from Imputation while Track What was Imputed: \n",
      "202816.82635355514\n"
     ]
    }
   ],
   "source": [
    "# Get Score from Imputation with Extra Columns Showing What Was Imputed\n",
    "\n",
    "imputed_X_train_plus = train_X.copy()\n",
    "imputed_X_test_plus = val_X.copy()\n",
    "\n",
    "cols_with_missing = (col for col in train_X.columns if train_X[col].isnull().any())\n",
    "\n",
    "for col in cols_with_missing:\n",
    "    imputed_X_train_plus[col + '_was_missing'] = imputed_X_train_plus[col].isnull()\n",
    "    imputed_X_test_plus[col + '_was_missing'] = imputed_X_test_plus[col].isnull()\n",
    "    \n",
    "# Imputation\n",
    "my_imputer = Imputer()\n",
    "imputed_X_train_plus = my_imputer.fit_transform(imputed_X_train_plus)\n",
    "imputed_X_test_plus = my_imputer.transform(imputed_X_test_plus)\n",
    "\n",
    "print(\"Mean Absolute Error from Imputation while Track What was Imputed: \")\n",
    "print(score_dataset(imputed_X_train_plus, imputed_X_test_plus, train_y, val_y))"
   ]
  },
  {
   "cell_type": "code",
   "execution_count": null,
   "metadata": {},
   "outputs": [],
   "source": [
    "# Reference: https://www.kaggle.com/dansbecker/handling-missing-values"
   ]
  }
 ],
 "metadata": {
  "kernelspec": {
   "display_name": "Python 3",
   "language": "python",
   "name": "python3"
  },
  "language_info": {
   "codemirror_mode": {
    "name": "ipython",
    "version": 3
   },
   "file_extension": ".py",
   "mimetype": "text/x-python",
   "name": "python",
   "nbconvert_exporter": "python",
   "pygments_lexer": "ipython3",
   "version": "3.6.4"
  }
 },
 "nbformat": 4,
 "nbformat_minor": 2
}
