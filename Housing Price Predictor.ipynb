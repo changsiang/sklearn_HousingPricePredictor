{
 "cells": [
  {
   "cell_type": "code",
   "execution_count": 1,
   "metadata": {},
   "outputs": [],
   "source": [
    "import pandas as pd"
   ]
  },
  {
   "cell_type": "code",
   "execution_count": 3,
   "metadata": {},
   "outputs": [
    {
     "name": "stdout",
     "output_type": "stream",
     "text": [
      "         Unnamed: 0         Rooms         Price      Distance      Postcode  \\\n",
      "count  18396.000000  18396.000000  1.839600e+04  18395.000000  18395.000000   \n",
      "mean   11826.787073      2.935040  1.056697e+06     10.389986   3107.140147   \n",
      "std     6800.710448      0.958202  6.419217e+05      6.009050     95.000995   \n",
      "min        1.000000      1.000000  8.500000e+04      0.000000   3000.000000   \n",
      "25%     5936.750000      2.000000  6.330000e+05      6.300000   3046.000000   \n",
      "50%    11820.500000      3.000000  8.800000e+05      9.700000   3085.000000   \n",
      "75%    17734.250000      3.000000  1.302000e+06     13.300000   3149.000000   \n",
      "max    23546.000000     12.000000  9.000000e+06     48.100000   3978.000000   \n",
      "\n",
      "           Bedroom2      Bathroom           Car       Landsize  BuildingArea  \\\n",
      "count  14927.000000  14925.000000  14820.000000   13603.000000   7762.000000   \n",
      "mean       2.913043      1.538492      1.615520     558.116371    151.220219   \n",
      "std        0.964641      0.689311      0.955916    3987.326586    519.188596   \n",
      "min        0.000000      0.000000      0.000000       0.000000      0.000000   \n",
      "25%        2.000000      1.000000      1.000000     176.500000     93.000000   \n",
      "50%        3.000000      1.000000      2.000000     440.000000    126.000000   \n",
      "75%        3.000000      2.000000      2.000000     651.000000    174.000000   \n",
      "max       20.000000      8.000000     10.000000  433014.000000  44515.000000   \n",
      "\n",
      "         YearBuilt     Lattitude    Longtitude  Propertycount  \n",
      "count  8958.000000  15064.000000  15064.000000   18395.000000  \n",
      "mean   1965.879996    -37.809849    144.996338    7517.975265  \n",
      "std      37.013261      0.081152      0.106375    4488.416599  \n",
      "min    1196.000000    -38.182550    144.431810     249.000000  \n",
      "25%    1950.000000    -37.858100    144.931193    4294.000000  \n",
      "50%    1970.000000    -37.803625    145.000920    6567.000000  \n",
      "75%    2000.000000    -37.756270    145.060000   10331.000000  \n",
      "max    2018.000000    -37.408530    145.526350   21650.000000  \n"
     ]
    }
   ],
   "source": [
    "# save filepath to variable for\n",
    "file_path = './Housing Price ML Project/melb_data.csv/melb_data.csv'\n",
    "# read the data and store data in DataFrame\n",
    "mel_df = pd.read_csv(file_path)\n",
    "# print summary of data\n",
    "print(mel_df.describe())"
   ]
  },
  {
   "cell_type": "code",
   "execution_count": 4,
   "metadata": {},
   "outputs": [
    {
     "name": "stdout",
     "output_type": "stream",
     "text": [
      "Index(['Unnamed: 0', 'Suburb', 'Address', 'Rooms', 'Type', 'Price', 'Method',\n",
      "       'SellerG', 'Date', 'Distance', 'Postcode', 'Bedroom2', 'Bathroom',\n",
      "       'Car', 'Landsize', 'BuildingArea', 'YearBuilt', 'CouncilArea',\n",
      "       'Lattitude', 'Longtitude', 'Regionname', 'Propertycount'],\n",
      "      dtype='object')\n"
     ]
    }
   ],
   "source": [
    "# print data columns\n",
    "print(mel_df.columns)"
   ]
  },
  {
   "cell_type": "code",
   "execution_count": 5,
   "metadata": {},
   "outputs": [
    {
     "name": "stdout",
     "output_type": "stream",
     "text": [
      "0    1480000.0\n",
      "1    1035000.0\n",
      "2    1465000.0\n",
      "3     850000.0\n",
      "4    1600000.0\n",
      "Name: Price, dtype: float64\n"
     ]
    }
   ],
   "source": [
    "# Get only the price data\n",
    "mel_price_data = mel_df.Price\n",
    "print(mel_price_data.head())"
   ]
  },
  {
   "cell_type": "code",
   "execution_count": 6,
   "metadata": {},
   "outputs": [
    {
     "data": {
      "text/html": [
       "<div>\n",
       "<style scoped>\n",
       "    .dataframe tbody tr th:only-of-type {\n",
       "        vertical-align: middle;\n",
       "    }\n",
       "\n",
       "    .dataframe tbody tr th {\n",
       "        vertical-align: top;\n",
       "    }\n",
       "\n",
       "    .dataframe thead th {\n",
       "        text-align: right;\n",
       "    }\n",
       "</style>\n",
       "<table border=\"1\" class=\"dataframe\">\n",
       "  <thead>\n",
       "    <tr style=\"text-align: right;\">\n",
       "      <th></th>\n",
       "      <th>Landsize</th>\n",
       "      <th>BuildingArea</th>\n",
       "    </tr>\n",
       "  </thead>\n",
       "  <tbody>\n",
       "    <tr>\n",
       "      <th>count</th>\n",
       "      <td>13603.000000</td>\n",
       "      <td>7762.000000</td>\n",
       "    </tr>\n",
       "    <tr>\n",
       "      <th>mean</th>\n",
       "      <td>558.116371</td>\n",
       "      <td>151.220219</td>\n",
       "    </tr>\n",
       "    <tr>\n",
       "      <th>std</th>\n",
       "      <td>3987.326586</td>\n",
       "      <td>519.188596</td>\n",
       "    </tr>\n",
       "    <tr>\n",
       "      <th>min</th>\n",
       "      <td>0.000000</td>\n",
       "      <td>0.000000</td>\n",
       "    </tr>\n",
       "    <tr>\n",
       "      <th>25%</th>\n",
       "      <td>176.500000</td>\n",
       "      <td>93.000000</td>\n",
       "    </tr>\n",
       "    <tr>\n",
       "      <th>50%</th>\n",
       "      <td>440.000000</td>\n",
       "      <td>126.000000</td>\n",
       "    </tr>\n",
       "    <tr>\n",
       "      <th>75%</th>\n",
       "      <td>651.000000</td>\n",
       "      <td>174.000000</td>\n",
       "    </tr>\n",
       "    <tr>\n",
       "      <th>max</th>\n",
       "      <td>433014.000000</td>\n",
       "      <td>44515.000000</td>\n",
       "    </tr>\n",
       "  </tbody>\n",
       "</table>\n",
       "</div>"
      ],
      "text/plain": [
       "            Landsize  BuildingArea\n",
       "count   13603.000000   7762.000000\n",
       "mean      558.116371    151.220219\n",
       "std      3987.326586    519.188596\n",
       "min         0.000000      0.000000\n",
       "25%       176.500000     93.000000\n",
       "50%       440.000000    126.000000\n",
       "75%       651.000000    174.000000\n",
       "max    433014.000000  44515.000000"
      ]
     },
     "execution_count": 6,
     "metadata": {},
     "output_type": "execute_result"
    }
   ],
   "source": [
    "# Select multiple columns\n",
    "sel_col = ['Landsize', 'BuildingArea']\n",
    "two_columns_of_data = mel_df[sel_col]\n",
    "two_columns_of_data.describe()"
   ]
  },
  {
   "cell_type": "code",
   "execution_count": 7,
   "metadata": {},
   "outputs": [],
   "source": [
    "# drop missing value from mel_df\n",
    "mel_df = mel_df.dropna(axis=0)\n",
    "\n",
    "# set prediction target. Common convention, y is use to refer to prediction target\n",
    "y = mel_df.Price\n",
    "\n",
    "# Select predictors. Use all/any variables except the target\n",
    "mel_predictors = ['Rooms', 'Bathroom', 'Landsize', 'BuildingArea',\n",
    "                'YearBuilt', 'Lattitude', 'Longtitude']\n",
    "\n",
    "# let x be the value of the predictors\n",
    "x = mel_df[mel_predictors]"
   ]
  },
  {
   "cell_type": "code",
   "execution_count": 8,
   "metadata": {},
   "outputs": [],
   "source": [
    "# import skilearn library for ML\n",
    "from sklearn.tree import DecisionTreeRegressor"
   ]
  },
  {
   "cell_type": "code",
   "execution_count": 9,
   "metadata": {},
   "outputs": [
    {
     "data": {
      "text/plain": [
       "DecisionTreeRegressor(criterion='mse', max_depth=None, max_features=None,\n",
       "           max_leaf_nodes=None, min_impurity_decrease=0.0,\n",
       "           min_impurity_split=None, min_samples_leaf=1,\n",
       "           min_samples_split=2, min_weight_fraction_leaf=0.0,\n",
       "           presort=False, random_state=None, splitter='best')"
      ]
     },
     "execution_count": 9,
     "metadata": {},
     "output_type": "execute_result"
    }
   ],
   "source": [
    "# define model\n",
    "mel_model = DecisionTreeRegressor() # This is one of the ML model provided in sklearn lib. The tutorial use this model\n",
    "\n",
    "# Fit model\n",
    "mel_model.fit(x, y)"
   ]
  },
  {
   "cell_type": "code",
   "execution_count": 13,
   "metadata": {},
   "outputs": [
    {
     "name": "stdout",
     "output_type": "stream",
     "text": [
      "Making predictions for the following 5 houses:\n",
      "    Rooms  Bathroom  Landsize  BuildingArea  YearBuilt  Lattitude  Longtitude\n",
      "1       2       1.0     156.0          79.0     1900.0   -37.8079    144.9934\n",
      "2       3       2.0     134.0         150.0     1900.0   -37.8093    144.9944\n",
      "4       4       1.0     120.0         142.0     2014.0   -37.8072    144.9941\n",
      "6       3       2.0     245.0         210.0     1910.0   -37.8024    144.9993\n",
      "7       2       1.0     256.0         107.0     1890.0   -37.8060    144.9954\n",
      "11      2       1.0     220.0          75.0     1900.0   -37.8010    144.9989\n",
      "16      3       2.0     214.0         190.0     2005.0   -37.8085    144.9964\n",
      "17      2       2.0       0.0          94.0     2009.0   -37.8078    144.9965\n",
      "22      2       1.0     238.0          97.0     1890.0   -37.8090    144.9976\n",
      "23      3       2.0     113.0         110.0     1880.0   -37.8056    144.9930\n",
      "25      3       1.0     138.0         105.0     1890.0   -37.8021    144.9965\n",
      "27      2       1.0     150.0          73.0     1985.0   -37.8011    145.0004\n",
      "28      4       2.0     780.0         135.0     1900.0   -37.8073    144.9952\n",
      "31      2       1.0       0.0          60.0     1970.0   -37.8015    144.9972\n",
      "32      2       2.0     124.0         135.0     2013.0   -37.8079    144.9977\n",
      "33      2       1.0     147.0          85.0     1900.0   -37.8080    144.9940\n",
      "37      3       3.0     166.0         174.0     2012.0   -37.8017    145.0001\n",
      "39      2       2.0      98.0         128.0     1920.0   -37.8005    144.9952\n",
      "44      3       1.0     168.0         124.0     1950.0   -37.8007    144.9958\n",
      "45      1       1.0       0.0          50.0     2013.0   -37.8055    144.9961\n",
      "46      2       1.0     162.0          91.0     1900.0   -37.8016    144.9956\n",
      "47      3       2.0     120.0         128.0     1998.0   -37.8022    144.9954\n",
      "48      2       1.0     182.0          82.0     1900.0   -37.8021    144.9976\n",
      "50      2       1.0     172.0          81.0     1930.0   -37.8086    144.9946\n",
      "52      3       2.0     303.0         225.0     2016.0   -37.7180    144.8780\n",
      "The predictions are...\n",
      "[1035000. 1465000. 1600000. 1876000. 1636000. 1097000. 1350000.  750000.\n",
      " 1310000. 1200000. 1176500.  890000. 1330000.  500000. 1100000. 1315000.\n",
      " 1447500. 1135000. 1290000.  470000. 1180000. 1195000. 1012500. 1030000.\n",
      "  840000.]\n"
     ]
    }
   ],
   "source": [
    "print(\"Making predictions for the following 5 houses:\")\n",
    "print(x.head(25))\n",
    "print(\"The predictions are...\")\n",
    "print(mel_model.predict(x.head(25)))"
   ]
  },
  {
   "cell_type": "code",
   "execution_count": 14,
   "metadata": {},
   "outputs": [],
   "source": [
    "# Now will calculate Mean Absolute Error (mae)\n",
    "# Import sklearn library for the calculation\n",
    "from sklearn.metrics import mean_absolute_error"
   ]
  },
  {
   "cell_type": "code",
   "execution_count": 15,
   "metadata": {},
   "outputs": [
    {
     "data": {
      "text/plain": [
       "434.71594577146544"
      ]
     },
     "execution_count": 15,
     "metadata": {},
     "output_type": "execute_result"
    }
   ],
   "source": [
    "predicted_home_price = mel_model.predict(x)\n",
    "mean_absolute_error(y, predicted_home_price)"
   ]
  },
  {
   "cell_type": "code",
   "execution_count": 16,
   "metadata": {},
   "outputs": [],
   "source": [
    "# split data into training and test set. sklearn has library to automatically does that\n",
    "from sklearn.model_selection import train_test_split"
   ]
  },
  {
   "cell_type": "code",
   "execution_count": 17,
   "metadata": {},
   "outputs": [],
   "source": [
    "# The split is based on random number generator.\n",
    "train_X, val_X, train_y, val_y = train_test_split(x, y, random_state = 0)"
   ]
  },
  {
   "cell_type": "code",
   "execution_count": 19,
   "metadata": {},
   "outputs": [
    {
     "name": "stdout",
     "output_type": "stream",
     "text": [
      "259976.2369270497\n"
     ]
    }
   ],
   "source": [
    "# do the same thing again, taking the training set and fit it into the DecisionTreeRegressor model\n",
    "mel_model.fit(train_X, train_y)\n",
    "\n",
    "# get predicted prices on validation data\n",
    "val_predict = mel_model.predict(val_X)\n",
    "print(mean_absolute_error(val_y, val_predict))"
   ]
  },
  {
   "cell_type": "code",
   "execution_count": 21,
   "metadata": {},
   "outputs": [],
   "source": [
    "# Writing a function to return \"mae\" based on value of max_leaf_modes\n",
    "def get_mae(max_leaf_node, predictors_train, predictors_val, targ_train, targ_val):\n",
    "    model = DecisionTreeRegressor(max_leaf_nodes=max_leaf_node, random_state=0)\n",
    "    model.fit(predictors_train, targ_train)\n",
    "    preds_val  = model.predict(predictors_val)\n",
    "    mae = mean_absolute_error(targ_val, preds_val)\n",
    "    return(mae)"
   ]
  },
  {
   "cell_type": "code",
   "execution_count": 22,
   "metadata": {},
   "outputs": [
    {
     "name": "stdout",
     "output_type": "stream",
     "text": [
      "Max leaf nodes: 5 \t\t Mean Absolute Error: 347380\n",
      "Max leaf nodes: 50 \t\t Mean Absolute Error: 257829\n",
      "Max leaf nodes: 500 \t\t Mean Absolute Error: 243176\n",
      "Max leaf nodes: 5000 \t\t Mean Absolute Error: 254915\n"
     ]
    }
   ],
   "source": [
    "for max_leaf_nodes in [5, 50, 500, 5000]:\n",
    "    my_mae = get_mae(max_leaf_nodes, train_X, val_X, train_y, val_y)\n",
    "    print(\"Max leaf nodes: %d \\t\\t Mean Absolute Error: %d\" %(max_leaf_nodes, my_mae))"
   ]
  },
  {
   "cell_type": "code",
   "execution_count": 23,
   "metadata": {},
   "outputs": [],
   "source": [
    "# Instead of using DecisionTreeRegressor which potentially face issue with under- or overfitting\n",
    "# Here will use another algorithm - random forest; which makes prediction by averaging the prediction of each component tree\n",
    "# Import RandomForestRegressor from sklearn library\n",
    "from sklearn.ensemble import RandomForestRegressor"
   ]
  },
  {
   "cell_type": "code",
   "execution_count": 25,
   "metadata": {},
   "outputs": [
    {
     "name": "stdout",
     "output_type": "stream",
     "text": [
      "203266.4496449322\n"
     ]
    }
   ],
   "source": [
    "forest_model = RandomForestRegressor()\n",
    "forest_model.fit(train_X, train_y)\n",
    "melb_preds = forest_model.predict(val_X)\n",
    "print(mean_absolute_error(val_y, melb_preds))"
   ]
  },
  {
   "cell_type": "code",
   "execution_count": null,
   "metadata": {},
   "outputs": [],
   "source": []
  }
 ],
 "metadata": {
  "kernelspec": {
   "display_name": "Python 3",
   "language": "python",
   "name": "python3"
  },
  "language_info": {
   "codemirror_mode": {
    "name": "ipython",
    "version": 3
   },
   "file_extension": ".py",
   "mimetype": "text/x-python",
   "name": "python",
   "nbconvert_exporter": "python",
   "pygments_lexer": "ipython3",
   "version": "3.6.4"
  }
 },
 "nbformat": 4,
 "nbformat_minor": 2
}
